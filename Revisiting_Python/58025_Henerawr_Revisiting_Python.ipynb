{
  "nbformat": 4,
  "nbformat_minor": 0,
  "metadata": {
    "colab": {
      "name": "58025_Henerawr_Revisiting_Python.ipynb",
      "provenance": [],
      "collapsed_sections": [],
      "toc_visible": true,
      "include_colab_link": true
    },
    "kernelspec": {
      "display_name": "Python 3",
      "name": "python3"
    }
  },
  "cells": [
    {
      "cell_type": "markdown",
      "metadata": {
        "id": "view-in-github",
        "colab_type": "text"
      },
      "source": [
        "<a href=\"https://colab.research.google.com/github/luigiditan/AIDA/blob/main/Revisiting_Python/58025_Henerawr_Revisiting_Python.ipynb\" target=\"_parent\"><img src=\"https://colab.research.google.com/assets/colab-badge.svg\" alt=\"Open In Colab\"/></a>"
      ]
    },
    {
      "cell_type": "markdown",
      "metadata": {
        "id": "S2wfVPpoFPKe"
      },
      "source": [
        "# Welcome to Python Fundamentals\n",
        "*Submitted by: Group Henerawr* <br>\n",
        "*Feb. 08, 2020*\n",
        "\n",
        "\n",
        "In this module, we are going to establish or review our skills in Python programming. In this notebook we are going to cover:\n",
        "* Variables and Data Types \n",
        "* Operations\n",
        "* Input and Output Operations\n",
        "* Logic Control\n",
        "* Iterables\n",
        "* Functions"
      ]
    },
    {
      "cell_type": "markdown",
      "metadata": {
        "id": "iWW3tP_hFWKJ"
      },
      "source": [
        "## Variable and Data Types\n"
      ]
    },
    {
      "cell_type": "markdown",
      "metadata": {
        "id": "RWlDzJE2K1uU"
      },
      "source": [
        "What is variable? \r\n",
        "\r\n",
        "    Variables are used to store information to be referenced and manipulated in a computer program[1].\r\n"
      ]
    },
    {
      "cell_type": "code",
      "metadata": {
        "id": "eif-MdjAG1Sa",
        "colab": {
          "base_uri": "https://localhost:8080/"
        },
        "outputId": "7ecdde1a-aad6-49d9-ffde-1cd909e15694"
      },
      "source": [
        "x = 99\r\n",
        "\r\n",
        "print(\"the value is\", x)\r\n"
      ],
      "execution_count": null,
      "outputs": [
        {
          "output_type": "stream",
          "text": [
            "the value is 99\n"
          ],
          "name": "stdout"
        }
      ]
    },
    {
      "cell_type": "code",
      "metadata": {
        "id": "L3cpJv-kG3iq",
        "colab": {
          "base_uri": "https://localhost:8080/"
        },
        "outputId": "59df8974-e8f7-4523-c78e-067568ade681"
      },
      "source": [
        "name = 'James'\r\n",
        "\r\n",
        "print (\"My bestfriend is\", name)"
      ],
      "execution_count": null,
      "outputs": [
        {
          "output_type": "stream",
          "text": [
            "My bestfriend is James\n"
          ],
          "name": "stdout"
        }
      ]
    },
    {
      "cell_type": "markdown",
      "metadata": {
        "id": "nWXEWjn4K-sJ"
      },
      "source": [
        "What is Data types? \r\n",
        "\r\n",
        "        Data types represents a type of the data which you can process using your computer program.\r\n",
        "     It can be numeric, alphanumeric, decimal, etc. [2].\r\n",
        "    "
      ]
    },
    {
      "cell_type": "code",
      "metadata": {
        "id": "UshIpBk_S3bj",
        "colab": {
          "base_uri": "https://localhost:8080/"
        },
        "outputId": "cec97414-ac94-4a48-ec0a-ef89e77f625e"
      },
      "source": [
        "st = \"Mole\"\r\n",
        "type(st)"
      ],
      "execution_count": null,
      "outputs": [
        {
          "output_type": "execute_result",
          "data": {
            "text/plain": [
              "str"
            ]
          },
          "metadata": {
            "tags": []
          },
          "execution_count": 11
        }
      ]
    },
    {
      "cell_type": "code",
      "metadata": {
        "id": "2JiAbMoDYMth",
        "colab": {
          "base_uri": "https://localhost:8080/"
        },
        "outputId": "afed7d95-5039-4475-fbbc-3e1488900820"
      },
      "source": [
        "flt = 5.08\r\n",
        "type(flt)"
      ],
      "execution_count": null,
      "outputs": [
        {
          "output_type": "execute_result",
          "data": {
            "text/plain": [
              "float"
            ]
          },
          "metadata": {
            "tags": []
          },
          "execution_count": 12
        }
      ]
    },
    {
      "cell_type": "code",
      "metadata": {
        "id": "6ZPSaGdSYW4x",
        "colab": {
          "base_uri": "https://localhost:8080/"
        },
        "outputId": "38c92322-61a0-45a5-a9e8-192d74f7f9ff"
      },
      "source": [
        "intgr = 34\r\n",
        "type(intgr)"
      ],
      "execution_count": null,
      "outputs": [
        {
          "output_type": "execute_result",
          "data": {
            "text/plain": [
              "int"
            ]
          },
          "metadata": {
            "tags": []
          },
          "execution_count": 13
        }
      ]
    },
    {
      "cell_type": "code",
      "metadata": {
        "id": "0V5QluzwZ5Bx",
        "colab": {
          "base_uri": "https://localhost:8080/"
        },
        "outputId": "3a23d230-b1b4-4928-c328-632c9611f0f9"
      },
      "source": [
        "rt = \"8.65\"\r\n",
        "rt_float = float(rt)\r\n",
        "type(rt_float)"
      ],
      "execution_count": null,
      "outputs": [
        {
          "output_type": "execute_result",
          "data": {
            "text/plain": [
              "float"
            ]
          },
          "metadata": {
            "tags": []
          },
          "execution_count": 14
        }
      ]
    },
    {
      "cell_type": "markdown",
      "metadata": {
        "id": "mcCzp-U_Fedq"
      },
      "source": [
        "## Operations\n",
        "\n"
      ]
    },
    {
      "cell_type": "markdown",
      "metadata": {
        "id": "ousmQ8N1QGoq"
      },
      "source": [
        "What is operator?\r\n",
        "  \r\n",
        "        It is a symbol that tells the compiler or interpreter to perform specific mathematical, relational \r\n",
        "    or logical operation and produce final result [3]."
      ]
    },
    {
      "cell_type": "markdown",
      "metadata": {
        "id": "st7hks7-FlW4"
      },
      "source": [
        "#### Arithmetic\n",
        "\n"
      ]
    },
    {
      "cell_type": "markdown",
      "metadata": {
        "id": "6NXwORzfReso"
      },
      "source": [
        "          The basic arithmetic operations are addition, subtraction, multiplication, and division . \r\n",
        "    Arithmetic is performed according to an order of operations [4].Modulo, exponentiation and \r\n",
        "    Floor Division is also part of arithmetic operation."
      ]
    },
    {
      "cell_type": "code",
      "metadata": {
        "id": "H0VDnLAiG8vj",
        "colab": {
          "base_uri": "https://localhost:8080/"
        },
        "outputId": "4f8ab5e7-c028-4a0e-8c31-a841b0efbe73"
      },
      "source": [
        "### Addition\r\n",
        "num = int(input(\"Enter 1st number: \"))\r\n",
        "num1 = int(input(\"Enter 2nd number: \"))\r\n",
        "totalnum = num + num1\r\n",
        "print(\"The sum is\", totalnum)"
      ],
      "execution_count": null,
      "outputs": [
        {
          "output_type": "stream",
          "text": [
            "Enter 1st number: 20\n",
            "Enter 2nd number: 19\n",
            "The sum is 39\n"
          ],
          "name": "stdout"
        }
      ]
    },
    {
      "cell_type": "code",
      "metadata": {
        "colab": {
          "base_uri": "https://localhost:8080/"
        },
        "id": "FwY7mgBQHopq",
        "outputId": "f721cad0-b790-4685-8077-3a11f006dfed"
      },
      "source": [
        "### Substraction\r\n",
        "money = 100\r\n",
        "chickskin = 25\r\n",
        "change = money - chickskin\r\n",
        "print (\"My money is\", money,\", I bought chicken skin for \", chickskin,\"pesos.\",\"my change is\",change,\"pesos.\")"
      ],
      "execution_count": null,
      "outputs": [
        {
          "output_type": "stream",
          "text": [
            "My money is 100 , I bought chicken skin for  25 pesos. my change is 75 pesos.\n"
          ],
          "name": "stdout"
        }
      ]
    },
    {
      "cell_type": "code",
      "metadata": {
        "id": "7t2TPDymJ5fC",
        "colab": {
          "base_uri": "https://localhost:8080/"
        },
        "outputId": "6ca56ab4-bcad-4dd3-f059-6e67c2811a64"
      },
      "source": [
        "### Multiplication\r\n",
        "quantity = int(input(\"Enter quantity: \"))\r\n",
        "itemprice = 50\r\n",
        "totalprice = itemprice * quantity\r\n",
        "print(\"the total is\", totalprice)\r\n"
      ],
      "execution_count": null,
      "outputs": [
        {
          "output_type": "stream",
          "text": [
            "Enter quantity: 7\n",
            "the total is 350\n"
          ],
          "name": "stdout"
        }
      ]
    },
    {
      "cell_type": "code",
      "metadata": {
        "id": "Irk-tnwESji1",
        "colab": {
          "base_uri": "https://localhost:8080/"
        },
        "outputId": "858b1c35-695e-4b98-9abe-4c7f8e65cb3c"
      },
      "source": [
        "### Division\r\n",
        "num1 = float (input(\"Enter First Number: \"))\r\n",
        "num2 = float (input(\"Enter Second Number: \"))\r\n",
        "totalnum = num1/num2\r\n",
        "print(\"The first number divided by the second number is\",totalnum)"
      ],
      "execution_count": null,
      "outputs": [
        {
          "output_type": "stream",
          "text": [
            "Enter First Number: 12\n",
            "Enter Second Number: 12\n",
            "The first number divided by the second number is 1.0\n"
          ],
          "name": "stdout"
        }
      ]
    },
    {
      "cell_type": "code",
      "metadata": {
        "id": "THAskzxaS7po",
        "colab": {
          "base_uri": "https://localhost:8080/"
        },
        "outputId": "17a1f6c7-ff9a-48d4-9c43-995f9ba9e382"
      },
      "source": [
        "### Floor Division\r\n",
        "num1 = float (input(\"Enter First Number: \"))\r\n",
        "num2 = float (input(\"Enter Second Number: \"))\r\n",
        "totalnum = num1//num2\r\n",
        "print(\"The first number divided by the second number is\",totalnum)"
      ],
      "execution_count": null,
      "outputs": [
        {
          "output_type": "stream",
          "text": [
            "Enter First Number: 9\n",
            "Enter Second Number: 6\n",
            "The first number divided by the second number is 1.0\n"
          ],
          "name": "stdout"
        }
      ]
    },
    {
      "cell_type": "code",
      "metadata": {
        "id": "QQ7f7eM2S7jg",
        "colab": {
          "base_uri": "https://localhost:8080/"
        },
        "outputId": "165cfab6-0620-4239-cb59-d73198616d40"
      },
      "source": [
        "### Exponentation \r\n",
        "num1 = int(input(\"Enter a number: \"))\r\n",
        "num2 = int(input(\"Exponent number: \"))\r\n",
        "totalnum = num1**num2\r\n",
        "print(\"{0} raised by {1} is {2} \".format(num1,num2,totalnum))"
      ],
      "execution_count": null,
      "outputs": [
        {
          "output_type": "stream",
          "text": [
            "Enter a number: 2\n",
            "Exponent number: 2\n",
            "2 raised by 2 is 4 \n"
          ],
          "name": "stdout"
        }
      ]
    },
    {
      "cell_type": "code",
      "metadata": {
        "id": "LkzagyLcTAQm",
        "colab": {
          "base_uri": "https://localhost:8080/"
        },
        "outputId": "331dbc1d-9bb9-4edc-90f4-42989f3de948"
      },
      "source": [
        "### Modulo\r\n",
        "num1 = int (input(\"Enter First Number: \"))\r\n",
        "num2 = int (input(\"Enter Second Number: \"))\r\n",
        "totalnum = num1%num2\r\n",
        "print(totalnum)"
      ],
      "execution_count": null,
      "outputs": [
        {
          "output_type": "stream",
          "text": [
            "Enter First Number: 19\n",
            "Enter Second Number: 7\n",
            "5\n"
          ],
          "name": "stdout"
        }
      ]
    },
    {
      "cell_type": "markdown",
      "metadata": {
        "id": "cpJKS4_RFojJ"
      },
      "source": [
        "#### Assignment Operations"
      ]
    },
    {
      "cell_type": "markdown",
      "metadata": {
        "id": "9kXiZVwoVCAn"
      },
      "source": [
        "\r\n",
        "        Assignment operators are used to assign values to variables[5]."
      ]
    },
    {
      "cell_type": "code",
      "metadata": {
        "colab": {
          "base_uri": "https://localhost:8080/"
        },
        "id": "MSqGsM4HjeTa",
        "outputId": "3f33ec55-b547-4363-f581-ecc923302a56"
      },
      "source": [
        "a, b, c, d, e, f, g, h, i, j = 5, 8, 10, 12, 21, 3, 50, 2, 9, 6\n",
        "## Additon\n",
        "a += b\n",
        "print(a)\n",
        "## Subtraction\n",
        "c -= d\n",
        "print(c)\n",
        "## Multiplication\n",
        "e *= f\n",
        "print(e)\n",
        "## Division\n",
        "g /= h \n",
        "print(g)\n",
        "## Exponent\n",
        "i **= j\n",
        "print(i)"
      ],
      "execution_count": null,
      "outputs": [
        {
          "output_type": "stream",
          "text": [
            "13\n",
            "-2\n",
            "63\n",
            "25.0\n",
            "531441\n"
          ],
          "name": "stdout"
        }
      ]
    },
    {
      "cell_type": "markdown",
      "metadata": {
        "id": "Ll7scGOsFu3j"
      },
      "source": [
        "#### Comparators\r\n",
        "\r\n"
      ]
    },
    {
      "cell_type": "code",
      "metadata": {
        "colab": {
          "base_uri": "https://localhost:8080/"
        },
        "id": "9NtVwIM3W5t3",
        "outputId": "e6ce0c64-df87-4943-bd6c-39901fdc55ea"
      },
      "source": [
        "### Equality\r\n",
        "\r\n",
        "x = 100\r\n",
        "y = 100\r\n",
        "\r\n",
        "x == y"
      ],
      "execution_count": null,
      "outputs": [
        {
          "output_type": "execute_result",
          "data": {
            "text/plain": [
              "True"
            ]
          },
          "metadata": {
            "tags": []
          },
          "execution_count": 2
        }
      ]
    },
    {
      "cell_type": "code",
      "metadata": {
        "id": "GbE6GmIYW-ZK",
        "colab": {
          "base_uri": "https://localhost:8080/"
        },
        "outputId": "4a209ed9-20ff-434c-f6b3-be19112d4306"
      },
      "source": [
        "### Non-Equality\r\n",
        "a = 20\r\n",
        "b = 100\r\n",
        "\r\n",
        "a != b"
      ],
      "execution_count": null,
      "outputs": [
        {
          "output_type": "execute_result",
          "data": {
            "text/plain": [
              "True"
            ]
          },
          "metadata": {
            "tags": []
          },
          "execution_count": 23
        }
      ]
    },
    {
      "cell_type": "code",
      "metadata": {
        "id": "Tgb5EBLEXA7Q",
        "colab": {
          "base_uri": "https://localhost:8080/"
        },
        "outputId": "daf958c3-c598-492c-d1a7-90de31d49c43"
      },
      "source": [
        "### Inequality \r\n",
        "l = 69\r\n",
        "d = 80\r\n",
        "\r\n",
        "l == d\r\n",
        "\r\n"
      ],
      "execution_count": null,
      "outputs": [
        {
          "output_type": "execute_result",
          "data": {
            "text/plain": [
              "False"
            ]
          },
          "metadata": {
            "tags": []
          },
          "execution_count": 24
        }
      ]
    },
    {
      "cell_type": "markdown",
      "metadata": {
        "id": "5b_Ql4sVF0Id"
      },
      "source": [
        "#### Logical"
      ]
    },
    {
      "cell_type": "markdown",
      "metadata": {
        "id": "kPrYo-tctcxB"
      },
      "source": [
        " \r\n",
        " \r\n",
        "          Is a symbol or word used to connect two or more expressions such that the value of the compound expression produced\r\n",
        "    depends only on that of the original expressions and on the meaning of the operator [6]. "
      ]
    },
    {
      "cell_type": "code",
      "metadata": {
        "colab": {
          "base_uri": "https://localhost:8080/"
        },
        "id": "r8gmXyFrt7FL",
        "outputId": "4e30f3a8-6e97-4875-dc62-949f59bb3549"
      },
      "source": [
        "### AND\r\n",
        "a = 1\r\n",
        "b = 0\r\n",
        "c = a and b\r\n",
        "print(c)\r\n"
      ],
      "execution_count": null,
      "outputs": [
        {
          "output_type": "stream",
          "text": [
            "0\n"
          ],
          "name": "stdout"
        }
      ]
    },
    {
      "cell_type": "code",
      "metadata": {
        "colab": {
          "base_uri": "https://localhost:8080/"
        },
        "id": "VnbZ2c8X5jSS",
        "outputId": "c8490144-08bc-49af-d957-68ee1142f56d"
      },
      "source": [
        "### OR\r\n",
        "a = 1\r\n",
        "b = 0\r\n",
        "c = a or b\r\n",
        "print(c)"
      ],
      "execution_count": null,
      "outputs": [
        {
          "output_type": "stream",
          "text": [
            "1\n"
          ],
          "name": "stdout"
        }
      ]
    },
    {
      "cell_type": "code",
      "metadata": {
        "colab": {
          "base_uri": "https://localhost:8080/"
        },
        "id": "L2Chas345i9Z",
        "outputId": "8e75a01d-5e85-42bf-de0c-137afabfb5c4"
      },
      "source": [
        "### NOT \r\n",
        "a = 1\r\n",
        "b = 0\r\n",
        "c = not (a and b)\r\n",
        "print(c)\r\n"
      ],
      "execution_count": null,
      "outputs": [
        {
          "output_type": "stream",
          "text": [
            "True\n"
          ],
          "name": "stdout"
        }
      ]
    },
    {
      "cell_type": "markdown",
      "metadata": {
        "id": "rmBmKAefF6HO"
      },
      "source": [
        "#### I/O"
      ]
    },
    {
      "cell_type": "code",
      "metadata": {
        "id": "drr9yN5bkASf",
        "colab": {
          "base_uri": "https://localhost:8080/"
        },
        "outputId": "0e80eac3-56bc-4a3e-bd2b-d09e0d63da05"
      },
      "source": [
        "name = input(\"Enter your name:\")\r\n",
        "print(\"Your name is\",name)"
      ],
      "execution_count": null,
      "outputs": [
        {
          "output_type": "stream",
          "text": [
            "Enter your name:james\n",
            "Your name is james\n"
          ],
          "name": "stdout"
        }
      ]
    },
    {
      "cell_type": "code",
      "metadata": {
        "id": "CcHtowmdnRCd",
        "colab": {
          "base_uri": "https://localhost:8080/"
        },
        "outputId": "b8437c36-f093-4ed5-84ef-f7d9c317475c"
      },
      "source": [
        "kg = int(input(\"Enter your bodyweight in kilograms:\"))\r\n",
        "pounds = kg * 2.2\r\n",
        "print(\"You are\",pounds,\"pounds\")"
      ],
      "execution_count": null,
      "outputs": [
        {
          "output_type": "stream",
          "text": [
            "Enter your bodyweight in kilograms:88\n",
            "You are 193.60000000000002 pounds\n"
          ],
          "name": "stdout"
        }
      ]
    },
    {
      "cell_type": "code",
      "metadata": {
        "id": "EAKleFNyllnP",
        "colab": {
          "base_uri": "https://localhost:8080/"
        },
        "outputId": "0aa99d26-b282-4ca0-fe62-ec40e887bfe8"
      },
      "source": [
        "## put comma after entering a number\r\n",
        "x = list(map(int,input(\"Enter five numbers\").strip().split(\",\")))\r\n",
        "x"
      ],
      "execution_count": null,
      "outputs": [
        {
          "output_type": "stream",
          "text": [
            "Enter five numbers1,2,3,4,5\n"
          ],
          "name": "stdout"
        },
        {
          "output_type": "execute_result",
          "data": {
            "text/plain": [
              "[1, 2, 3, 4, 5]"
            ]
          },
          "metadata": {
            "tags": []
          },
          "execution_count": 33
        }
      ]
    },
    {
      "cell_type": "markdown",
      "metadata": {
        "id": "j6CXhPAKtv6N"
      },
      "source": [
        "#### Iterables\r\n"
      ]
    },
    {
      "cell_type": "code",
      "metadata": {
        "colab": {
          "base_uri": "https://localhost:8080/"
        },
        "id": "bPau247Ot58U",
        "outputId": "ed095cfa-8311-4815-a4fb-5b8f34e3894e"
      },
      "source": [
        "#### List\r\n",
        "l1 = list(map(int,input(\"Input numbers with comma in between:\").strip().split(\",\")))\r\n",
        "print(\"The number with the zero index is\",l1[0])"
      ],
      "execution_count": null,
      "outputs": [
        {
          "output_type": "stream",
          "text": [
            "Input numbers with comma in between:1,2\n",
            "The number with the zero index is 1\n"
          ],
          "name": "stdout"
        }
      ]
    },
    {
      "cell_type": "code",
      "metadata": {
        "id": "94_ED0HDt7HE",
        "colab": {
          "base_uri": "https://localhost:8080/"
        },
        "outputId": "3ae94cc7-7254-4c79-f929-edde3f5e3ad4"
      },
      "source": [
        "#### Tuple\r\n",
        "tuple1 = (\"Timo Boll\",23,0,\"Lebron James\")\r\n",
        "print(tuple1[-1])"
      ],
      "execution_count": null,
      "outputs": [
        {
          "output_type": "stream",
          "text": [
            "Lebron James\n"
          ],
          "name": "stdout"
        }
      ]
    },
    {
      "cell_type": "code",
      "metadata": {
        "id": "hMIlPq4st8PK",
        "colab": {
          "base_uri": "https://localhost:8080/"
        },
        "outputId": "70ac680e-529b-44fc-a93d-b365dc83acdd"
      },
      "source": [
        "#### Dictionaries \r\n",
        "dict1 = {\"Most Valuable Player\":\"Lebron James\",\r\n",
        "         \"Most Defensive Player of the Year\":\"Giannis Antetoukumpo\",\r\n",
        "         \"Most Improved Player of the Year\":\"Brandon Ingram\",\r\n",
        "         \"Rookie of the Year\":\"Luka Doncic\"}\r\n",
        "\r\n",
        "print(dict1)"
      ],
      "execution_count": null,
      "outputs": [
        {
          "output_type": "stream",
          "text": [
            "{'Most Valuable Player': 'Lebron James', 'Most Defensive Player of the Year': 'Giannis Antetoukumpo', 'Most Improved Player of the Year': 'Brandon Ingram', 'Rookie of the Year': 'Luka Doncic'}\n"
          ],
          "name": "stdout"
        }
      ]
    },
    {
      "cell_type": "code",
      "metadata": {
        "id": "d69df1dr5Y7c",
        "colab": {
          "base_uri": "https://localhost:8080/"
        },
        "outputId": "3df9e91b-41cf-467c-f16c-3b3585dedf9d"
      },
      "source": [
        "dict1.update({\"Most Defensive Player of the Year\":\"Lebron James\",\r\n",
        "             \"Most Improved Player of the Year\":\"Lebron James\",\r\n",
        "             \"Rookie of the Year\":\"Lamelo Ball\"})\r\n",
        "print(dict1)"
      ],
      "execution_count": null,
      "outputs": [
        {
          "output_type": "stream",
          "text": [
            "{'Most Valuable Player': 'Lebron James', 'Most Defensive Player of the Year': 'Lebron James', 'Most Improved Player of the Year': 'Lebron James', 'Rookie of the Year': 'Lamelo Ball'}\n"
          ],
          "name": "stdout"
        }
      ]
    },
    {
      "cell_type": "markdown",
      "metadata": {
        "id": "dc-qXcO3F-6w"
      },
      "source": [
        "## Looping Statements\n"
      ]
    },
    {
      "cell_type": "markdown",
      "metadata": {
        "id": "CqefJ_7qujgb"
      },
      "source": [
        "    \r\n",
        "    A loop statement allows us to execute a statement or group of statements multiple times [7]. "
      ]
    },
    {
      "cell_type": "markdown",
      "metadata": {
        "id": "UAJC1zSfGEFp"
      },
      "source": [
        "### While"
      ]
    },
    {
      "cell_type": "markdown",
      "metadata": {
        "id": "RTzRbuVmvUtv"
      },
      "source": [
        "\r\n",
        "        Repeats a statement or group of statements while a given \r\n",
        "    condition is true. It tests the condition before executing the \r\n",
        "    loop body [7]."
      ]
    },
    {
      "cell_type": "code",
      "metadata": {
        "colab": {
          "base_uri": "https://localhost:8080/"
        },
        "id": "LCuCOf3KzY_j",
        "outputId": "f2286745-8f55-4504-ab4b-56faf27f21d7"
      },
      "source": [
        "\r\n",
        "numz = int(input(\"input any number:\"))\r\n",
        " \r\n",
        "while(numz > 0):\r\n",
        "        print(numz)\r\n",
        "\r\n",
        "        if numz % 10 ==0:\r\n",
        "            break\r\n",
        "        numz = numz + 2\r\n",
        "        if numz % 2 ==1:\r\n",
        "            print(\"It's an odd number!\")\r\n",
        "            break"
      ],
      "execution_count": null,
      "outputs": [
        {
          "output_type": "stream",
          "text": [
            "input any number:2\n",
            "2\n",
            "4\n",
            "6\n",
            "8\n",
            "10\n"
          ],
          "name": "stdout"
        }
      ]
    },
    {
      "cell_type": "markdown",
      "metadata": {
        "id": "b4pP3Tz9GFZC"
      },
      "source": [
        "### For"
      ]
    },
    {
      "cell_type": "markdown",
      "metadata": {
        "id": "DOsEHLAhvrnV"
      },
      "source": [
        "\r\n",
        "      Executes a sequence of statements multiple times and abbreviates the code that manages the loop variable [7]."
      ]
    },
    {
      "cell_type": "code",
      "metadata": {
        "colab": {
          "base_uri": "https://localhost:8080/"
        },
        "id": "sm3vS33PW0xd",
        "outputId": "33e7ac92-3414-4642-b599-97e8e279a653"
      },
      "source": [
        "num = int(input(\"Enter any number:\"))\r\n",
        "\r\n",
        "for i in range(1,6):\r\n",
        "    mult_table = (num*i)\r\n",
        "    print(mult_table)"
      ],
      "execution_count": null,
      "outputs": [
        {
          "output_type": "stream",
          "text": [
            "Enter any number:5\n",
            "5\n",
            "10\n",
            "15\n",
            "20\n",
            "25\n"
          ],
          "name": "stdout"
        }
      ]
    },
    {
      "cell_type": "code",
      "metadata": {
        "colab": {
          "base_uri": "https://localhost:8080/"
        },
        "id": "kKNoAjoZYYwN",
        "outputId": "8a03f3f2-06d0-4aea-9e1a-208361ade789"
      },
      "source": [
        "list_1 = [\"Kiss\",\"under\",\"moonlight\"]\r\n",
        "list_2 = [\"me\",\"the\",\"baby\"]\r\n",
        "\r\n",
        "for x,y in zip(list_1,list_2):\r\n",
        "    print(x,y,end=\" \")"
      ],
      "execution_count": null,
      "outputs": [
        {
          "output_type": "stream",
          "text": [
            "Kiss me under the moonlight baby "
          ],
          "name": "stdout"
        }
      ]
    },
    {
      "cell_type": "code",
      "metadata": {
        "colab": {
          "base_uri": "https://localhost:8080/"
        },
        "id": "78pFH4_hserD",
        "outputId": "9c7d8481-31e5-4645-df03-544b7f56b17b"
      },
      "source": [
        "song_lyrics = input(\"Enter a song lyrics:\").split()\r\n",
        "\r\n",
        "for word in song_lyrics:\r\n",
        "     if word.startswith(\"d\"):\r\n",
        "        print(word)"
      ],
      "execution_count": null,
      "outputs": [
        {
          "output_type": "stream",
          "text": [
            "Enter a song lyrics:datebayo\n",
            "datebayo\n"
          ],
          "name": "stdout"
        }
      ]
    },
    {
      "cell_type": "markdown",
      "metadata": {
        "id": "Oz7cO77l0mpU"
      },
      "source": [
        "### Nested"
      ]
    },
    {
      "cell_type": "code",
      "metadata": {
        "id": "NH3HgahZxs-5",
        "colab": {
          "base_uri": "https://localhost:8080/"
        },
        "outputId": "300835a7-22fd-44b6-bb6d-69ee941a8f67"
      },
      "source": [
        "list1 = [\"Manalo\", \"Lowell\",\"Airon\"]\r\n",
        "while list1:\r\n",
        "    print(list1.pop())\r\n",
        "    list2 = [\"Great Badboy\",\"The Great\"]\r\n",
        "    while list2:\r\n",
        "        print(list2.pop())\r\n",
        "        list3 = [\"\\U0001F60E\\n\"]\r\n",
        "        while list3:\r\n",
        "            print(list3.pop())"
      ],
      "execution_count": null,
      "outputs": [
        {
          "output_type": "stream",
          "text": [
            "Airon\n",
            "The Great\n",
            "😎\n",
            "\n",
            "Great Badboy\n",
            "😎\n",
            "\n",
            "Lowell\n",
            "The Great\n",
            "😎\n",
            "\n",
            "Great Badboy\n",
            "😎\n",
            "\n",
            "Manalo\n",
            "The Great\n",
            "😎\n",
            "\n",
            "Great Badboy\n",
            "😎\n",
            "\n"
          ],
          "name": "stdout"
        }
      ]
    },
    {
      "cell_type": "markdown",
      "metadata": {
        "id": "bWuvefG7GGgs"
      },
      "source": [
        "## Flow Control"
      ]
    },
    {
      "cell_type": "markdown",
      "metadata": {
        "id": "oeilpGDkyfSR"
      },
      "source": [
        "\r\n",
        "\r\n",
        "         Is the order in which individual statements, instructions or function calls of an imperative program are executed \r\n",
        "    or evaluated [8]."
      ]
    },
    {
      "cell_type": "markdown",
      "metadata": {
        "id": "YlztbVWFGN6D"
      },
      "source": [
        "### Condition Statements"
      ]
    },
    {
      "cell_type": "markdown",
      "metadata": {
        "id": "TqcGkOQEy9rK"
      },
      "source": [
        "\r\n",
        "        Conditional statements help you to make a decision based on certain conditions. These conditions are specified by a set of \r\n",
        "    conditional statements having boolean expressions which are evaluated to a boolean value true or false [9]. \r\n",
        "       Types of Conditional statement \r\n",
        "    * If statement\r\n",
        "    * If-else statement\r\n",
        "    * Nested if-else statement \r\n",
        "    * If- else if statement\r\n",
        "    * Switch statement \r\n"
      ]
    },
    {
      "cell_type": "code",
      "metadata": {
        "colab": {
          "base_uri": "https://localhost:8080/"
        },
        "id": "DZhatTXN1GkZ",
        "outputId": "4b0f0032-7d04-4687-9f48-2e2d71197ede"
      },
      "source": [
        "### If statement \r\n",
        "\r\n",
        "num = int (input(\"Enter your final grade: \"))\r\n",
        "if num >= 90:\r\n",
        "  print (\"You are qualified for the scholarship!\")\r\n",
        "\r\n"
      ],
      "execution_count": null,
      "outputs": [
        {
          "output_type": "stream",
          "text": [
            "Enter your final grade: 98\n",
            "You are qualified for the scholarship!\n"
          ],
          "name": "stdout"
        }
      ]
    },
    {
      "cell_type": "code",
      "metadata": {
        "id": "3Gkcw4m31OL1",
        "colab": {
          "base_uri": "https://localhost:8080/"
        },
        "outputId": "49ab6168-e730-4f52-ed1e-182c3ddd550f"
      },
      "source": [
        "### If-else statement \r\n",
        "num = int(input(\"Enter your final grade: \"))\r\n",
        "if num >=90:\r\n",
        "  print(\"You are qualified for the scholarship!\")\r\n",
        "else:\r\n",
        " print(\"You are not qualified for the scholarship\")"
      ],
      "execution_count": null,
      "outputs": [
        {
          "output_type": "stream",
          "text": [
            "Enter your final grade: 70\n",
            "You are not qualified for the scholarship\n"
          ],
          "name": "stdout"
        }
      ]
    },
    {
      "cell_type": "code",
      "metadata": {
        "colab": {
          "base_uri": "https://localhost:8080/"
        },
        "id": "SiU6GKQixHHe",
        "outputId": "c4e20da1-66f0-4dab-ebfa-a32842a59736"
      },
      "source": [
        "### If-else if\r\n",
        "\r\n",
        "fud = input(\"Enter any fruit or vegetable:\")\r\n",
        "\r\n",
        "if fud in [\"banana\",\"lanzones\",\"apple\"]:\r\n",
        "    print(\"It is a fruit!\")\r\n",
        "elif fud in [\"carrot\",\"broccoli\"]:\r\n",
        "    print(\"It is a veggy!\")\r\n",
        "else:\r\n",
        "    print(\"I don't know what that is\")"
      ],
      "execution_count": null,
      "outputs": [
        {
          "output_type": "stream",
          "text": [
            "Enter any fruit or vegetable:banana\n",
            "It is a fruit!\n"
          ],
          "name": "stdout"
        }
      ]
    },
    {
      "cell_type": "markdown",
      "metadata": {
        "id": "xTYxXDrMGRlZ"
      },
      "source": [
        "## Functions"
      ]
    },
    {
      "cell_type": "markdown",
      "metadata": {
        "id": "zvLt-S851uwQ"
      },
      "source": [
        "\r\n",
        "      A function is a block of organized, reusable code that is used to perform a single, related action [10]."
      ]
    },
    {
      "cell_type": "code",
      "metadata": {
        "colab": {
          "base_uri": "https://localhost:8080/"
        },
        "id": "Rvf8enW8hM8c",
        "outputId": "8c1db787-213c-4fde-a9e1-0a0e8df73b59"
      },
      "source": [
        "def get_name(name):\n",
        "  print(\"Hello klasmeyt \", name)\n",
        "\n",
        "get_name(\"Juswa\")"
      ],
      "execution_count": null,
      "outputs": [
        {
          "output_type": "stream",
          "text": [
            "Hello klasmeyt  Juswa\n"
          ],
          "name": "stdout"
        }
      ]
    },
    {
      "cell_type": "markdown",
      "metadata": {
        "id": "r_VPEjd9GVSL"
      },
      "source": [
        "### Lambda Functions"
      ]
    },
    {
      "cell_type": "code",
      "metadata": {
        "colab": {
          "base_uri": "https://localhost:8080/"
        },
        "id": "DJa-8lU9hWNc",
        "outputId": "60bfbcd7-7b58-44fa-9c16-dedf49026edb"
      },
      "source": [
        "a = 2\n",
        "b = 10\n",
        "c = 5\n",
        "Answer = lambda a: (b + c) * b / c\n",
        "\n",
        "Answer(a)"
      ],
      "execution_count": null,
      "outputs": [
        {
          "output_type": "execute_result",
          "data": {
            "text/plain": [
              "30.0"
            ]
          },
          "metadata": {
            "tags": []
          },
          "execution_count": 6
        }
      ]
    },
    {
      "cell_type": "markdown",
      "metadata": {
        "id": "mXTPvuiOGZZb"
      },
      "source": [
        "#Activity\n",
        "\n",
        "Create a grade calculator that computes for the semestral grade of a course.\n",
        "Students could type their names, the name of the course, then their prelim,\n",
        "midterm, and final grade.\n",
        "The program should print the semestral grade in 2 decimal points and should\n",
        "display the following emojis depending on the situation:\n",
        "happy - when grade is greater than 70.00\n",
        "laughing - when grade is exactly 70.00\n",
        "sad - when grade is below 70.00\n",
        "\n",
        "happy, lol, sad = \"\\U0001F600\",\"\\U0001F923\",\"\\U0001F619\""
      ]
    },
    {
      "cell_type": "code",
      "metadata": {
        "colab": {
          "base_uri": "https://localhost:8080/"
        },
        "id": "M5yXJ1XkG5_S",
        "outputId": "4d137d05-5c02-45b9-ce81-7c8590b7a83b"
      },
      "source": [
        "def grade_calculator():\n",
        "      name = input(\"Please enter your name: \")\n",
        "      course = input(\"Please enter your course: \")\n",
        "      prelim = float(input(\"Please input your prelim grade: \"))\n",
        "      midterm = float(input(\"Please input your midterm grade: \"))\n",
        "      finals = float(input(\"Please input your final grade: \"))\n",
        "\n",
        "      final_grade = (prelim * .30) + (midterm * .30) + (finals *.40)\n",
        "      happy, lol, sad = \"\\U0001F600\",\"\\U0001F923\",\"\\U0001F619\"\n",
        "      if (final_grade > 70):\n",
        "        print(\"Hello {}, your semestral grade is: {:.2f}{}\".format(name, final_grade, happy))\n",
        "\n",
        "      elif(final_grade == 70):\n",
        "        print(\"Hello {}, your semestral grade is: {:.2f}{}\".format(name, final_grade, lol))\n",
        "\n",
        "      elif(final_grade < 70):\n",
        "        print(\"Hello {}, your semestral grade is: {:.2f}{}\".format(name, final_grade, sad))\n",
        "\n",
        "grade_calculator()"
      ],
      "execution_count": null,
      "outputs": [
        {
          "output_type": "stream",
          "text": [
            "Please enter your name: James\n",
            "Please enter your course: AI\n",
            "Please input your prelim grade: 70\n",
            "Please input your midterm grade: 70\n",
            "Please input your final grade: 70\n",
            "Hello James, your semestral grade is: 70.00🤣\n"
          ],
          "name": "stdout"
        }
      ]
    },
    {
      "cell_type": "markdown",
      "metadata": {
        "id": "N5DWZK_WHEip"
      },
      "source": [
        "The grade_calculator function takes an input from the user, the data that are needed to be inputted by the user are his/her name, course, and, grade per sem. The function calculates for the semestral grade and outputs a corresponding emoji depending on the grade of the student."
      ]
    },
    {
      "cell_type": "markdown",
      "metadata": {
        "id": "Vu_9wCReLBp3"
      },
      "source": [
        "##References\r\n"
      ]
    },
    {
      "cell_type": "markdown",
      "metadata": {
        "id": "4FOEgUkNLEy5"
      },
      "source": [
        "[1] LaunchSchool (2021). *Variables*. [Online](https://launchschool.com/books/ruby/read/variables).\r\n",
        "\r\n",
        "[2] Tutorialspoint (2021). *Computer Programming-Data Types*. [Online](https://www.tutorialspoint.com/computer_programming/computer_programming_data_types.htm).\r\n",
        "\r\n",
        "[3] Hackerearth (2021). *Basic Operators*. [Online](https://www.hackerearth.com/practice/basic-programming/operators/basics-of-operators/tutorial/).\r\n",
        "\r\n",
        "[4] Wikipedia (2021). *Arithmetic*. [Online](https://en.wikipedia.org/wiki/Arithmetic#Arithmetic_operations).\r\n",
        "\r\n",
        "[5] W3Schools (2021). *Assignment Operators*. [Online](https://www.w3schools.com/cpp/cpp_operators_assignment.asp).\r\n",
        "\r\n",
        "[6] Programming Fundamentals (2021). *Logical Operators*.[Online](https://press.rebus.community/programmingfundamentals/chapter/logical-operators/).\r\n",
        "\r\n",
        "[7] Tutorialspoint (2021). *C-Loops*.[Online](https://www.tutorialspoint.com/cprogramming/c_loops.htm).\r\n",
        "\r\n",
        "[8] Control Flow (2021). *Control Flow*.[Online](https://en.wikipedia.org/wiki/Control_flow). \r\n",
        "\r\n",
        "[9] DotNetTricks (2019). *Conditional Statements: if, else, switch*.[Online](https://www.dotnettricks.com/learn/c/conditional-statements-if-else-switch-ladder). \r\n",
        "\r\n",
        "[10] Computer Programming (2021). *Functions*. [Online](https://www.tutorialspoint.com/computer_programming/computer_programming_functions.htm). "
      ]
    }
  ]
}